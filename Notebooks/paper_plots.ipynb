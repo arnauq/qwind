{
 "cells": [
  {
   "cell_type": "code",
   "execution_count": 231,
   "metadata": {},
   "outputs": [
    {
     "data": {
      "text/plain": [
       "<module 'qwind.radiation.simple_sed' from '/cosma7/data/dp004/dc-quer1/qwind/qwind/radiation/simple_sed.py'>"
      ]
     },
     "execution_count": 231,
     "metadata": {},
     "output_type": "execute_result"
    }
   ],
   "source": [
    "import matplotlib.pyplot as plt\n",
    "#import seaborn as sns\n",
    "#sns.set_context(\"talk\")\n",
    "import numpy as np\n",
    "import os\n",
    "import importlib\n",
    "from pyagn import sed\n",
    "importlib.reload(sed)\n",
    "from glob import glob\n",
    "from matplotlib import cm\n",
    "from plot_utils.paper import set_size\n",
    "import plot_utils\n",
    "from plot_utils import paper \n",
    "importlib.reload(plot_utils.paper)\n",
    "from qwind import plotting\n",
    "importlib.reload(plotting)\n",
    "import matplotlib as mpl\n",
    "nice_fonts = {\n",
    "        # Use LaTeX to write all text\n",
    "        \"text.usetex\": True,\n",
    "        \"font.family\": \"serif\",\n",
    "        # Use 10pt font in plots, to match 10pt font in document\n",
    "        \"axes.labelsize\": 10,\n",
    "        \"font.size\": 10,\n",
    "        # Make the legend/label fonts a little smaller\n",
    "        \"legend.fontsize\": 8,\n",
    "        \"xtick.labelsize\": 8,\n",
    "        \"ytick.labelsize\": 8,\n",
    "}\n",
    "\n",
    "mpl.rcParams.update(nice_fonts)\n",
    "from qwind import wind\n",
    "from qwind.radiation import simple_sed, qsosed\n",
    "importlib.reload(wind)\n",
    "importlib.reload(simple_sed)\n",
    "importlib.reload(qsosed)\n",
    "from qwind import aux_numba\n",
    "importlib.reload(aux_numba)\n",
    "from qwind.radiation import simple_sed\n",
    "importlib.reload(simple_sed)"
   ]
  },
  {
   "cell_type": "markdown",
   "metadata": {},
   "source": [
    "# SED plot"
   ]
  },
  {
   "cell_type": "code",
   "execution_count": 62,
   "metadata": {},
   "outputs": [],
   "source": [
    "disc_colors = [\n",
    "    '#ffc857',\n",
    "    \"#e9724C\",\n",
    "    '#c5283d',\n",
    "    '#aa1155',\n",
    "    '#880044'\n",
    "]"
   ]
  },
  {
   "cell_type": "code",
   "execution_count": 18,
   "metadata": {},
   "outputs": [],
   "source": [
    "bh = sed.SED(M = 1e8, mdot = 0.5)\n",
    "distance = 1e26"
   ]
  },
  {
   "cell_type": "code",
   "execution_count": 4,
   "metadata": {},
   "outputs": [],
   "source": [
    "warm_flux = bh.warm_flux(distance)\n",
    "corona_flux = bh.corona_flux(distance)\n",
    "total_flux = bh.total_flux(distance)"
   ]
  },
  {
   "cell_type": "code",
   "execution_count": 33,
   "metadata": {},
   "outputs": [
    {
     "data": {
      "image/png": "[encoded data removed]",
      "text/plain": [
       "<Figure size 251.059x155.163 with 1 Axes>"
      ]
     },
     "metadata": {
      "needs_background": "light"
     },
     "output_type": "display_data"
    }
   ],
   "source": [
    "fig, ax = plt.subplots(1,1, figsize = paper.set_size(subplot=[1,1]))\n",
    "distance = 1e26\n",
    "r_range = [50, 250, 450, 650, 850]\n",
    "dr = 20\n",
    "colormap = cm.viridis(np.linspace(0,1,5))\n",
    "disk_fluxes = []\n",
    "energy_range = bh.ENERGY_RANGE_KEV\n",
    "disk_line_list = []\n",
    "xray_mask = energy_range > 0.1\n",
    "total_line, = ax.loglog(energy_range, total_flux, color = 'black', label = 'Total' )\n",
    "uv = ax.fill_between(x = energy_range[bh.UV_MASK], y1 = 0 , y2 = total_flux[bh.UV_MASK], color = 'darkviolet', alpha = 0.2, label = \"UV band\")\n",
    "xray = ax.fill_between(x = energy_range[xray_mask], y1 = 0 , y2 = total_flux[xray_mask], color = 'grey', alpha = 0.2, label = \"X-ray band\")\n",
    "\n",
    "for i, r in enumerate(r_range):\n",
    "    disk_flux = np.pi * bh.disk_spectral_radiance_kev(energy_range, r)\n",
    "    disk_lumin = disk_flux * 4 * np.pi * bh.Rg**2 * dr #* ((r+dr/2.)**2 - (r-dr/2.)**2)\n",
    "    disk_flux = disk_lumin / (4 * np.pi * distance**2 )\n",
    "    disk_line, = ax.loglog(energy_range, disk_flux, label = \"%d\"%r, color = disc_colors[i])\n",
    "    disk_line_list.append(disk_line)\n",
    "    #if i == 0:\n",
    "    #    ax.fill_between(x = energy_range, y1 =0 , y2 = disk_flux, color = 'grey', alpha = 0.15)\n",
    "    #ax.fill_between(x = energy_range[bh.UV_MASK], y1 =0 , y2 = disk_flux[bh.UV_MASK], color = 'white')\n",
    "    #ax.fill_between(x = energy_range[bh.UV_MASK], y1 =0 , y2 = disk_flux[bh.UV_MASK], color = disc_colors[i], alpha = 0.3)\n",
    "    disk_fluxes.append(disk_flux)\n",
    "    \n",
    "#first_legend = ax.legend(handles=disk_line_list, loc=1, title = \"Disc Radius [Rg]\")\n",
    "#first_legend.get_title().set_fontsize('18') #legend 'Title' fontsize\n",
    "#ax.add_artist(first_legend)\n",
    "corona_line, = ax.loglog(energy_range, corona_flux, color = 'royalblue', label = 'Corona')\n",
    "#ax.fill_between(x = energy_range[bh.UV_MASK], y1 = 0 , y2 = corona_flux[bh.UV_MASK], color = 'royalblue', alpha = 0.3)\n",
    "\n",
    "warm_line, = ax.loglog(energy_range, warm_flux, color = 'teal', label = 'Warm region')\n",
    "#ax.fill_between(x = energy_range[bh.UV_MASK], y1 = 0 , y2 = warm_flux[bh.UV_MASK], color = 'teal', alpha = 0.3)\n",
    "\n",
    "\n",
    "\n",
    "ax.axvline(bh.ENERGY_UV_LOW_CUT_KEV, color = 'violet', linestyle = '--', alpha = 0.8)\n",
    "split = ax.axvline(bh.ENERGY_UV_HIGH_CUT_KEV, color = 'violet', linestyle = '--', label = 'UV band', alpha = 0.8)\n",
    "\n",
    "split2 = ax.axvline(0.1, color = 'grey', linestyle = '--', label = \"X-ray band\")\n",
    "#= ax.axvline(100, color = 'grey', linestyle = '--', label = 'X-ray band')\n",
    "\n",
    "\n",
    "ax.legend(handles = [uv, xray], loc=\"upper right\")\n",
    "ax.set_ylim(np.max(total_flux) / 10000, np.max(total_flux) * 2)\n",
    "ax.set_xlim(1e-4,1e2)\n",
    "ax.set_xlabel(\"Energy [keV]\")\n",
    "ax.set_ylabel(\"Flux [Photons cm$^{-2}$ s$^{-1}$] \")\n",
    "plt.savefig(\"sed_uv_intersection.pdf\", format='pdf', bbox_inches=\"tight\")"
   ]
  },
  {
   "cell_type": "markdown",
   "metadata": {},
   "source": [
    "# Radial UV fraction plot"
   ]
  },
  {
   "cell_type": "code",
   "execution_count": 19,
   "metadata": {},
   "outputs": [
    {
     "data": {
      "image/png": "[encoded data removed]",
      "text/plain": [
       "<Figure size 251.059x155.163 with 1 Axes>"
      ]
     },
     "metadata": {
      "needs_background": "light"
     },
     "output_type": "display_data"
    }
   ],
   "source": [
    "fig, ax = plt.subplots(figsize=paper.set_size())\n",
    "color  = plt.get_cmap(\"plasma\")(np.linspace(0,1,3))[1]\n",
    "fractions_uv, _, _, component_fractions = bh.compute_uv_fractions(1e26, include_corona = True, return_all = True)\n",
    "fraction_r_range = np.linspace(bh.corona_radius, bh.gravity_radius, len(fractions_uv) )\n",
    "ax.semilogx(fraction_r_range, fractions_uv, color = color)\n",
    "ax.axvline(bh.corona_radius, color = 'royalblue', linestyle = \"--\", label = 'Corona radius', alpha = 0.8)\n",
    "ax.axvline(bh.warm_radius, color = 'teal', linestyle = \"--\", label = 'Warm region radius', alpha = 0.8)\n",
    "ax.set_ylabel(\"UV fraction\")\n",
    "ax.set_xlabel(\"R [Rg]\")\n",
    "ax.legend(loc = \"lower center\")\n",
    "#plt.tight_layout()\n",
    "plt.savefig(\"radial_uv_fractions.pdf\", format='pdf', bbox_inches=\"tight\")"
   ]
  },
  {
   "cell_type": "markdown",
   "metadata": {},
   "source": [
    "# Total UV fraction plot"
   ]
  },
  {
   "cell_type": "code",
   "execution_count": 36,
   "metadata": {},
   "outputs": [
    {
     "name": "stderr",
     "output_type": "stream",
     "text": [
      "/cosma7/data/dp004/dc-quer1/pyagn/pyagn/sed.py:307: IntegrationWarning: The integral is probably divergent, or slowly convergent.\n",
      "  radial_integral = 2 * np.pi**2 * self.Rg**2 * integrate.quad( lambda r: r * self.disk_spectral_radiance(energy, r), self.warm_radius, self.gravity_radius)[0]\n"
     ]
    }
   ],
   "source": [
    "M_range = np.geomspace(1e7,1e10, 11)\n",
    "mdot_range = np.geomspace(0.05, 1, 10)\n",
    "\n",
    "fractions = []\n",
    "for M in M_range:\n",
    "    for mdot in mdot_range:\n",
    "        bh = sed.SED(M=M, mdot = mdot)\n",
    "        fractions.append([bh.uv_fraction, bh.xray_fraction])\n",
    "        \n",
    "\n",
    "fractions = np.array(fractions)\n",
    "\n",
    "fractions = fractions.reshape(11,10,2)\n",
    "\n",
    "fraction_uv = fractions[...,0]\n",
    "fraction_xray = fractions[...,1]"
   ]
  },
  {
   "cell_type": "code",
   "execution_count": 37,
   "metadata": {},
   "outputs": [
    {
     "data": {
      "image/png": "[encoded data removed]",
      "text/plain": [
       "<Figure size 502.117x155.163 with 4 Axes>"
      ]
     },
     "metadata": {
      "needs_background": "light"
     },
     "output_type": "display_data"
    }
   ],
   "source": [
    "fig, ax = plt.subplots(1,2, figsize=paper.set_size('mnras_double', subplot=[1,2]))\n",
    "#uv = ax[0].pcolormesh(np.log10(M_range), np.log10(mdot_range), fraction_uv)\n",
    "uv = plotting.pcolormesh_sensible(M_range, mdot_range, fraction_uv, ax[0], cmap = \"plasma\", logx=True, logy=False, logNorm = False) \n",
    "plt.colorbar(uv, ax = ax[0])\n",
    "ax[0].set_title(\"UV fraction\")\n",
    "\n",
    "#xr = ax[1].pcolormesh(np.log10(M_range), np.log10(mdot_range), fraction_xray)\n",
    "xr = plotting.pcolormesh_sensible(M_range, mdot_range, fraction_xray, ax[1], cmap = \"plasma\", logx=True, logy=False, logNorm=False) \n",
    "plt.colorbar(xr, ax = ax[1])\n",
    "ax[1].set_title(\"X-Ray fraction\")\n",
    "\n",
    "for axis in ax:\n",
    "    axis.set_xlabel(r\"$\\;M_\\mathrm{BH} \\;$ [M$_\\odot$]\")\n",
    "    axis.set_ylabel(r\"$ \\dot m$\")\n",
    "#    labels = [item.get_text().replace(\"−\", \"-\") for item in ax[0].get_yticklabels()]\n",
    "    \n",
    "    #labels = [10**float(label) for label in labels]\n",
    "    #ax[0].set_xticklabels(labels)\n",
    "\n",
    "plt.tight_layout()\n",
    "#labels = [float(item.get_text().replace(\"−\", \"-\")) for item in ax[0].get_yticklabels()]\n",
    "#labels_new = [\"%.2f\"%(10**label) for label in labels]\n",
    "#a = ax[0].set_yticklabels(labels_new)\n",
    "\n",
    "#labels = [float(item.get_text().replace(\"−\", \"-\")) for item in ax[1].get_yticklabels()]\n",
    "#labels_new = [\"%.2f\"%(10**label) for label in labels]\n",
    "#b = ax[1].set_yticklabels(labels_new)\n",
    "#plt.savefig(\"../../UV_XR_fractions.png\", dpi=200, bbox_to_inches=\"tight\")\n",
    "plt.savefig(\"uv_xray_fractions.pdf\", format='pdf', bbox_inches=\"tight\")"
   ]
  },
  {
   "cell_type": "markdown",
   "metadata": {},
   "source": [
    "# Qwind grid plots"
   ]
  },
  {
   "cell_type": "code",
   "execution_count": 34,
   "metadata": {},
   "outputs": [
    {
     "data": {
      "image/png": "[encoded data removed]",
      "text/plain": [
       "<Figure size 251.059x155.163 with 2 Axes>"
      ]
     },
     "metadata": {
      "needs_background": "light"
     },
     "output_type": "display_data"
    }
   ],
   "source": [
    "importlib.reload(plotting)\n",
    "fig, ax = plt.subplots(1,1,figsize = set_size(subplot = [1,1]))\n",
    "BASE_FOLDER = \"../qwind/simple_sed/\"\n",
    "ax = plotting.plot_mloss_grid(BASE_FOLDER + \"baseline\",\n",
    "                              title = r\"Qwind baseline model\",\n",
    "                              ax = ax,\n",
    "                              vmin = 0.001,\n",
    "                              vmax = 0.02,\n",
    "                              logy=False,\n",
    "                              )\n",
    "\n",
    "plt.savefig(\"qwind_baseline.pdf\", format='pdf', bbox_inches=\"tight\")"
   ]
  },
  {
   "cell_type": "code",
   "execution_count": 24,
   "metadata": {},
   "outputs": [
    {
     "ename": "IndexError",
     "evalue": "list index out of range",
     "output_type": "error",
     "traceback": [
      "\u001b[0;31m---------------------------------------------------------------------------\u001b[0m",
      "\u001b[0;31mIndexError\u001b[0m                                Traceback (most recent call last)",
      "\u001b[0;32m<ipython-input-24-ea1635fede1c>\u001b[0m in \u001b[0;36m<module>\u001b[0;34m\u001b[0m\n\u001b[1;32m      4\u001b[0m ax[0] = plotting.plot_mloss_grid(BASE_FOLDER + \"/rho_2e07\",\n\u001b[1;32m      5\u001b[0m                                  \u001b[0mtitle\u001b[0m \u001b[0;34m=\u001b[0m \u001b[0;34mr\"$n = 2\\times 10^7\\;\\mathrm{cm}^{-3}$\"\u001b[0m\u001b[0;34m,\u001b[0m\u001b[0;34m\u001b[0m\u001b[0;34m\u001b[0m\u001b[0m\n\u001b[0;32m----> 6\u001b[0;31m                                  ax = ax[0], vmin = 0.001, vmax = 0.01)\n\u001b[0m\u001b[1;32m      7\u001b[0m ax[1] = plotting.plot_mloss_grid(BASE_FOLDER + \"/rho_2e08\",\n\u001b[1;32m      8\u001b[0m                                  \u001b[0mtitle\u001b[0m \u001b[0;34m=\u001b[0m \u001b[0;34mr\"$n = 2\\times 10^8\\;\\mathrm{cm}^{-3}$\"\u001b[0m\u001b[0;34m,\u001b[0m\u001b[0;34m\u001b[0m\u001b[0;34m\u001b[0m\u001b[0m\n",
      "\u001b[0;32m/cosma7/data/dp004/dc-quer1/qwind/qwind/plotting.py\u001b[0m in \u001b[0;36mplot_mloss_grid\u001b[0;34m(grid_folder, title, ax, show_msun, cmap, vmin, vmax)\u001b[0m\n\u001b[1;32m    101\u001b[0m     \u001b[0mReads\u001b[0m \u001b[0mdata\u001b[0m \u001b[0;32mand\u001b[0m \u001b[0mcreates\u001b[0m \u001b[0mmloss\u001b[0m \u001b[0mgrid\u001b[0m\u001b[0;34m.\u001b[0m\u001b[0;34m\u001b[0m\u001b[0;34m\u001b[0m\u001b[0m\n\u001b[1;32m    102\u001b[0m     \"\"\"\n\u001b[0;32m--> 103\u001b[0;31m     \u001b[0mdata\u001b[0m \u001b[0;34m=\u001b[0m \u001b[0mread_data\u001b[0m\u001b[0;34m(\u001b[0m\u001b[0mgrid_folder\u001b[0m\u001b[0;34m)\u001b[0m\u001b[0;34m\u001b[0m\u001b[0;34m\u001b[0m\u001b[0m\n\u001b[0m\u001b[1;32m    104\u001b[0m     \u001b[0;31m#print(data)\u001b[0m\u001b[0;34m\u001b[0m\u001b[0;34m\u001b[0m\u001b[0;34m\u001b[0m\u001b[0m\n\u001b[1;32m    105\u001b[0m     \u001b[0mM_range\u001b[0m \u001b[0;34m=\u001b[0m \u001b[0mdata\u001b[0m\u001b[0;34m.\u001b[0m\u001b[0mM\u001b[0m\u001b[0;34m.\u001b[0m\u001b[0munique\u001b[0m\u001b[0;34m(\u001b[0m\u001b[0;34m)\u001b[0m\u001b[0;34m\u001b[0m\u001b[0;34m\u001b[0m\u001b[0m\n",
      "\u001b[0;32m/cosma7/data/dp004/dc-quer1/qwind/qwind/plotting.py\u001b[0m in \u001b[0;36mread_data\u001b[0;34m(grid_folder)\u001b[0m\n\u001b[1;32m     76\u001b[0m     \u001b[0;32mfor\u001b[0m \u001b[0mfile\u001b[0m \u001b[0;32min\u001b[0m \u001b[0mfiles\u001b[0m\u001b[0;34m:\u001b[0m\u001b[0;34m\u001b[0m\u001b[0;34m\u001b[0m\u001b[0m\n\u001b[1;32m     77\u001b[0m         \u001b[0mfname\u001b[0m \u001b[0;34m=\u001b[0m \u001b[0mfile\u001b[0m\u001b[0;34m.\u001b[0m\u001b[0msplit\u001b[0m\u001b[0;34m(\u001b[0m\u001b[0;34m\"/\"\u001b[0m\u001b[0;34m)\u001b[0m\u001b[0;34m[\u001b[0m\u001b[0;34m-\u001b[0m\u001b[0;36m1\u001b[0m\u001b[0;34m]\u001b[0m\u001b[0;34m\u001b[0m\u001b[0;34m\u001b[0m\u001b[0m\n\u001b[0;32m---> 78\u001b[0;31m         \u001b[0mM\u001b[0m \u001b[0;34m=\u001b[0m \u001b[0mfloat\u001b[0m\u001b[0;34m(\u001b[0m\u001b[0mfname\u001b[0m\u001b[0;34m.\u001b[0m\u001b[0msplit\u001b[0m\u001b[0;34m(\u001b[0m\u001b[0;34m\"_\"\u001b[0m\u001b[0;34m)\u001b[0m\u001b[0;34m[\u001b[0m\u001b[0;36m1\u001b[0m\u001b[0;34m]\u001b[0m\u001b[0;34m)\u001b[0m\u001b[0;34m\u001b[0m\u001b[0;34m\u001b[0m\u001b[0m\n\u001b[0m\u001b[1;32m     79\u001b[0m         \u001b[0mmdot\u001b[0m \u001b[0;34m=\u001b[0m \u001b[0mfloat\u001b[0m\u001b[0;34m(\u001b[0m\u001b[0mfname\u001b[0m\u001b[0;34m.\u001b[0m\u001b[0msplit\u001b[0m\u001b[0;34m(\u001b[0m\u001b[0;34m\"_\"\u001b[0m\u001b[0;34m)\u001b[0m\u001b[0;34m[\u001b[0m\u001b[0;34m-\u001b[0m\u001b[0;36m1\u001b[0m\u001b[0;34m]\u001b[0m\u001b[0;34m)\u001b[0m\u001b[0;34m\u001b[0m\u001b[0;34m\u001b[0m\u001b[0m\n\u001b[1;32m     80\u001b[0m         \u001b[0mmass_loss_file\u001b[0m \u001b[0;34m=\u001b[0m \u001b[0mos\u001b[0m\u001b[0;34m.\u001b[0m\u001b[0mpath\u001b[0m\u001b[0;34m.\u001b[0m\u001b[0mjoin\u001b[0m\u001b[0;34m(\u001b[0m\u001b[0mfile\u001b[0m\u001b[0;34m,\u001b[0m \u001b[0;34m\"mass_loss.csv\"\u001b[0m\u001b[0;34m)\u001b[0m\u001b[0;34m\u001b[0m\u001b[0;34m\u001b[0m\u001b[0m\n",
      "\u001b[0;31mIndexError\u001b[0m: list index out of range"
     ]
    },
    {
     "data": {
      "image/png": "[encoded data removed]",
      "text/plain": [
       "<Figure size 251.059x465.488 with 3 Axes>"
      ]
     },
     "metadata": {
      "needs_background": "light"
     },
     "output_type": "display_data"
    }
   ],
   "source": [
    "importlib.reload(plotting)\n",
    "fig, ax = plt.subplots(3,1,figsize = set_size(subplot = [3,1]))\n",
    "BASE_FOLDER = \"../qwind/qsosed\"\n",
    "ax[0] = plotting.plot_mloss_grid(BASE_FOLDER + \"/rho_2e07\",\n",
    "                                 title = r\"$n = 2\\times 10^7\\;\\mathrm{cm}^{-3}$\",\n",
    "                                 ax = ax[0], vmin = 0.001, vmax = 0.01)\n",
    "ax[1] = plotting.plot_mloss_grid(BASE_FOLDER + \"/rho_2e08\",\n",
    "                                 title = r\"$n = 2\\times 10^8\\;\\mathrm{cm}^{-3}$\",\n",
    "                                 ax = ax[1], vmin = 0.001, vmax = 0.01)\n",
    "ax[2] = plotting.plot_mloss_grid(BASE_FOLDER + \"/rho_2e09\",\n",
    "                                 title = r\"$n = 2\\times 10^9\\;\\mathrm{cm}^{-3}$\",\n",
    "                                 ax = ax[2], vmin = 0.001, vmax = 0.01)\n",
    "plt.savefig(\"simple_sed_grids.pdf\", format='pdf', bbox_inches=\"tight\")"
   ]
  },
  {
   "cell_type": "code",
   "execution_count": 30,
   "metadata": {},
   "outputs": [
    {
     "data": {
      "image/png": "[encoded data removed]",
      "text/plain": [
       "<Figure size 251.059x465.488 with 6 Axes>"
      ]
     },
     "metadata": {
      "needs_background": "light"
     },
     "output_type": "display_data"
    }
   ],
   "source": [
    "importlib.reload(plotting)\n",
    "fig, ax = plt.subplots(3,1,figsize = set_size(subplot = [3,1]))\n",
    "BASE_FOLDER = \"../qwind/qsosed\"\n",
    "ax[0] = plotting.plot_mloss_grid(BASE_FOLDER + \"/rin_50\",\n",
    "                                 title = r\"$n = 2\\times 10^7\\;\\mathrm{cm}^{-3}$\",\n",
    "                                 ax = ax[0], vmin = 0.001, vmax = 0.01)\n",
    "ax[1] = plotting.plot_mloss_grid(BASE_FOLDER + \"/rin_100\",\n",
    "                                 title = r\"$n = 2\\times 10^8\\;\\mathrm{cm}^{-3}$\",\n",
    "                                 ax = ax[1], vmin = 0.001, vmax = 0.01)\n",
    "ax[2] = plotting.plot_mloss_grid(BASE_FOLDER + \"/rin_200\",\n",
    "                                 title = r\"$n = 2\\times 10^9\\;\\mathrm{cm}^{-3}$\",\n",
    "                                 ax = ax[2], vmin = 0.001, vmax = 0.01)\n",
    "plt.savefig(\"simple_sed_grids.pdf\", format='pdf', bbox_inches=\"tight\")"
   ]
  },
  {
   "cell_type": "markdown",
   "metadata": {},
   "source": [
    "# Force multiplier"
   ]
  },
  {
   "cell_type": "code",
   "execution_count": 6,
   "metadata": {},
   "outputs": [
    {
     "name": "stdout",
     "output_type": "stream",
     "text": [
      "r_in: 200.000000 \n",
      " r_out: 1600.000000\n",
      "r_in: 200.000000 \n",
      " r_out: 1600.000000\n"
     ]
    }
   ],
   "source": [
    "interp = wind.Qwind(radiation_mode = \"SimpleSED\", modes=[\"interp_fm\"])\n",
    "no_interp = wind.Qwind(radiation_mode = \"SimpleSED\")"
   ]
  },
  {
   "cell_type": "code",
   "execution_count": 7,
   "metadata": {},
   "outputs": [],
   "source": [
    "t_range = [1e-2, 1e-4, 1e-6]\n",
    "xi_range = np.geomspace(1e-5, 1e5)"
   ]
  },
  {
   "cell_type": "code",
   "execution_count": 13,
   "metadata": {},
   "outputs": [
    {
     "data": {
      "image/png": "[encoded data removed]",
      "text/plain": [
       "<Figure size 251.059x155.163 with 1 Axes>"
      ]
     },
     "metadata": {
      "needs_background": "light"
     },
     "output_type": "display_data"
    }
   ],
   "source": [
    "fig, ax = plt.subplots(figsize=set_size())\n",
    "cmap = plt.get_cmap(\"plasma\")(np.linspace(0,1,len(t_range)))\n",
    "line_list = []\n",
    "for i,t in enumerate(t_range):\n",
    "    fm_interp = [interp.radiation.force_multiplier(t,xi) for xi in xi_range]\n",
    "    fm_no_interp = [no_interp.radiation.force_multiplier(t,xi) for xi in xi_range]\n",
    "    line_interp, = ax.loglog(xi_range, fm_interp, color = cmap[i])\n",
    "    line_no_interp, = ax.loglog(xi_range, fm_no_interp, color = cmap[i], linestyle=\"--\")\n",
    "    line_list.append(line_interp)\n",
    "    line_list.append(line_no_interp)\n",
    "    ax.text(xi_range[0], fm_interp[0]*0.30, r\"$\\log t=%.0d$\"%np.log10(t), fontsize=8)\n",
    "ax.legend(handles=line_list, labels=[\"interpolation\", \"analytical \\n approximation\"])#, loc='center left', bbox_to_anchor=(1, 0.5))\n",
    "ax.set_xlabel(r\"Ionisation parameter $\\xi$ [ erg cm s$^{-1}$ ]\")\n",
    "ax.set_ylabel(r\"Force multiplier $M(t,\\xi)$\")\n",
    "plt.savefig(\"force_multiplier.pdf\", format='pdf', bbox_inches=\"tight\")"
   ]
  },
  {
   "cell_type": "markdown",
   "metadata": {},
   "source": [
    "# wind example"
   ]
  },
  {
   "cell_type": "code",
   "execution_count": null,
   "metadata": {},
   "outputs": [
    {
     "name": "stdout",
     "output_type": "stream",
     "text": [
      "r_in: 200.000000 \n",
      " r_out: 1600.000000\n",
      "Starting line iteration\n",
      "Line 1 of 20\n"
     ]
    },
    {
     "data": {
      "application/vnd.jupyter.widget-view+json": {
       "model_id": "3c29b7d9fb234c5495e35e5348842b0f",
       "version_major": 2,
       "version_minor": 0
      },
      "text/plain": [
       "HBox(children=(IntProgress(value=0, max=50000), HTML(value='')))"
      ]
     },
     "metadata": {},
     "output_type": "display_data"
    },
    {
     "name": "stdout",
     "output_type": "stream",
     "text": [
      "Failed wind! \n",
      "\n",
      "\n",
      "Line 2 of 20\n"
     ]
    },
    {
     "data": {
      "application/vnd.jupyter.widget-view+json": {
       "model_id": "3d65bfff349e4b458e723af918ed7d7c",
       "version_major": 2,
       "version_minor": 0
      },
      "text/plain": [
       "HBox(children=(IntProgress(value=0, max=50000), HTML(value='')))"
      ]
     },
     "metadata": {},
     "output_type": "display_data"
    },
    {
     "name": "stdout",
     "output_type": "stream",
     "text": [
      "Failed wind! \n",
      "\n",
      "\n",
      "Line 3 of 20\n"
     ]
    },
    {
     "data": {
      "application/vnd.jupyter.widget-view+json": {
       "model_id": "e62eef20720d45f2b57042b03b9fda62",
       "version_major": 2,
       "version_minor": 0
      },
      "text/plain": [
       "HBox(children=(IntProgress(value=0, max=50000), HTML(value='')))"
      ]
     },
     "metadata": {},
     "output_type": "display_data"
    },
    {
     "name": "stdout",
     "output_type": "stream",
     "text": [
      "escape velocity reached.\n",
      "out of grid \n",
      "\n",
      "Line 4 of 20\n"
     ]
    },
    {
     "data": {
      "application/vnd.jupyter.widget-view+json": {
       "model_id": "ed9de5d263ff4c42b30b57c51b2ca982",
       "version_major": 2,
       "version_minor": 0
      },
      "text/plain": [
       "HBox(children=(IntProgress(value=0, max=50000), HTML(value='')))"
      ]
     },
     "metadata": {},
     "output_type": "display_data"
    },
    {
     "name": "stdout",
     "output_type": "stream",
     "text": [
      "escape velocity reached.\n",
      "out of grid \n",
      "\n",
      "Line 5 of 20\n"
     ]
    },
    {
     "data": {
      "application/vnd.jupyter.widget-view+json": {
       "model_id": "8b293bad0f894ba79d74061631cb4cea",
       "version_major": 2,
       "version_minor": 0
      },
      "text/plain": [
       "HBox(children=(IntProgress(value=0, max=50000), HTML(value='')))"
      ]
     },
     "metadata": {},
     "output_type": "display_data"
    },
    {
     "name": "stdout",
     "output_type": "stream",
     "text": [
      "Failed wind! \n",
      "\n",
      "Line 6 of 20\n"
     ]
    },
    {
     "data": {
      "application/vnd.jupyter.widget-view+json": {
       "model_id": "e174d54f10464c4ba5f09e12b9814599",
       "version_major": 2,
       "version_minor": 0
      },
      "text/plain": [
       "HBox(children=(IntProgress(value=0, max=50000), HTML(value='')))"
      ]
     },
     "metadata": {},
     "output_type": "display_data"
    },
    {
     "name": "stdout",
     "output_type": "stream",
     "text": [
      "Failed wind! \n",
      "\n",
      "Line 7 of 20\n"
     ]
    },
    {
     "data": {
      "application/vnd.jupyter.widget-view+json": {
       "model_id": "53456f0abe564c0eb94e4b031d25278e",
       "version_major": 2,
       "version_minor": 0
      },
      "text/plain": [
       "HBox(children=(IntProgress(value=0, max=50000), HTML(value='')))"
      ]
     },
     "metadata": {},
     "output_type": "display_data"
    },
    {
     "name": "stdout",
     "output_type": "stream",
     "text": [
      "Failed wind! \n",
      "\n",
      "Line 8 of 20\n"
     ]
    },
    {
     "data": {
      "application/vnd.jupyter.widget-view+json": {
       "model_id": "380430a98578488fbee861fa398b518d",
       "version_major": 2,
       "version_minor": 0
      },
      "text/plain": [
       "HBox(children=(IntProgress(value=0, max=50000), HTML(value='')))"
      ]
     },
     "metadata": {},
     "output_type": "display_data"
    },
    {
     "name": "stdout",
     "output_type": "stream",
     "text": [
      "Failed wind! \n",
      "\n",
      "Line 9 of 20\n"
     ]
    },
    {
     "data": {
      "application/vnd.jupyter.widget-view+json": {
       "model_id": "1084b1a2dcfa4295ae3747b728ef1190",
       "version_major": 2,
       "version_minor": 0
      },
      "text/plain": [
       "HBox(children=(IntProgress(value=0, max=50000), HTML(value='')))"
      ]
     },
     "metadata": {},
     "output_type": "display_data"
    },
    {
     "name": "stdout",
     "output_type": "stream",
     "text": [
      "Failed wind! \n",
      "\n",
      "Line 10 of 20\n"
     ]
    },
    {
     "data": {
      "application/vnd.jupyter.widget-view+json": {
       "model_id": "552ba4e6872245cea09ba1c40247f8d5",
       "version_major": 2,
       "version_minor": 0
      },
      "text/plain": [
       "HBox(children=(IntProgress(value=0, max=50000), HTML(value='')))"
      ]
     },
     "metadata": {},
     "output_type": "display_data"
    }
   ],
   "source": [
    "example = wind.Qwind(M=2e8, mdot=0.5, radiation_mode=\"SimpleSED\", nr=20, n_cpus=1, modes = [\"interp_fm\"])\n",
    "lines = example.start_lines(niter = 50000, rho = 2e8)"
   ]
  },
  {
   "cell_type": "code",
   "execution_count": 30,
   "metadata": {},
   "outputs": [
    {
     "data": {
      "image/png": "[encoded data removed]",
      "text/plain": [
       "<Figure size 251.059x155.163 with 1 Axes>"
      ]
     },
     "metadata": {
      "needs_background": "light"
     },
     "output_type": "display_data"
    }
   ],
   "source": [
    "fig, ax = plt.subplots(figsize=set_size())\n",
    "cmap = plt.get_cmap(\"plasma\")(np.linspace(0,1,len(lines)))\n",
    "for i, line in enumerate(lines):\n",
    "    ax.plot(line.r_hist, line.z_hist, color = cmap[i])\n",
    "ax.set_xlim(0,1600)\n",
    "ax.set_ylim(0,400)\n",
    "ax.set_xlabel(r\"$R$ [ $R_g$ ]\")\n",
    "ax.set_ylabel(r\"$Z$ [ $R_g$ ]\")\n",
    "plt.savefig(\"wind_example.pdf\", format='pdf', bbox_inches=\"tight\")"
   ]
  },
  {
   "cell_type": "code",
   "execution_count": null,
   "metadata": {},
   "outputs": [],
   "source": []
  },
  {
   "cell_type": "markdown",
   "metadata": {},
   "source": [
    "# Super Grid Plot"
   ]
  },
  {
   "cell_type": "code",
   "execution_count": 13,
   "metadata": {},
   "outputs": [],
   "source": [
    "def get_index(array, value):\n",
    "    index = np.argmin(np.abs(array - value))\n",
    "    return index"
   ]
  },
  {
   "cell_type": "code",
   "execution_count": 9,
   "metadata": {},
   "outputs": [],
   "source": [
    "# read data\n",
    "folders = glob(\"../qwind/batch_scripts/super_grid/*\")\n",
    "data = {\n",
    "    'rho' : [],\n",
    "    'vel' : [],\n",
    "    'data' : [],\n",
    "}\n",
    "for folder in folders:\n",
    "    _, folder_name = os.path.split(folder)\n",
    "    rho = float(folder_name.split(\"_\")[1]) * 1e8\n",
    "    vel = float(folder_name.split(\"_\")[-1]) * 1e7\n",
    "    data['rho'].append(rho)\n",
    "    data['vel'].append(vel)\n",
    "    data_pd = plotting.read_data(folder)\n",
    "    data['data'].append(data_pd)   "
   ]
  },
  {
   "cell_type": "code",
   "execution_count": 12,
   "metadata": {},
   "outputs": [],
   "source": [
    "rho_values = np.sort(np.unique(data['rho']))\n",
    "vel_values = np.sort(np.unique(data['vel']))"
   ]
  },
  {
   "cell_type": "code",
   "execution_count": 68,
   "metadata": {},
   "outputs": [
    {
     "data": {
      "text/plain": [
       "<matplotlib.colorbar.Colorbar at 0x7f0209ccfda0>"
      ]
     },
     "execution_count": 68,
     "metadata": {},
     "output_type": "execute_result"
    },
    {
     "data": {
      "image/png": "[encoded data removed]",
      "text/plain": [
       "<Figure size 502.117x310.325 with 26 Axes>"
      ]
     },
     "metadata": {
      "needs_background": "light"
     },
     "output_type": "display_data"
    }
   ],
   "source": [
    "fig, ax = plt.subplots(5,5,figsize=set_size('mnras_double'), sharex = True, sharey = True)\n",
    "for k in range(0,25):\n",
    "    rho = data['rho'][k]\n",
    "    vel = data['vel'][k]\n",
    "    j = get_index(rho_values, rho)\n",
    "    i = get_index(vel_values, vel)\n",
    "    data_grid = data['data'][k]\n",
    "    M_range = data_grid.M.unique()\n",
    "    mdot_range = data_grid.mdot.unique()\n",
    "    mloss = np.array(data_grid.mloss_norm).reshape(len(M_range), len(mdot_range))\n",
    "    cmap = plotting.pcolormesh_sensible(M_range, mdot_range, mloss, ax[i][j], logx=True, logy=False, cmap = \"plasma\", vmin = 0.001, vmax = 1)\n",
    "    if j == 0:\n",
    "        ax[i,j].set_ylabel(r\"$v = %.1f$\"%(vel/1e7))\n",
    "    if i == 4:\n",
    "        ax[i,j].set_xlabel(r\"$\\rho = %.1f$\"%(rho/1e8))\n",
    "cbar_ax = fig.add_axes([0.92, 0.13, 0.02, 0.75])\n",
    "fig.colorbar(cmap, cax=cbar_ax)\n"
   ]
  },
  {
   "cell_type": "markdown",
   "metadata": {},
   "source": [
    "# integral convergence"
   ]
  },
  {
   "cell_type": "code",
   "execution_count": 159,
   "metadata": {},
   "outputs": [
    {
     "name": "stdout",
     "output_type": "stream",
     "text": [
      "r_in: 200.000000 \n",
      " r_out: 1600.000000\n"
     ]
    },
    {
     "data": {
      "application/vnd.jupyter.widget-view+json": {
       "model_id": "d3a837431bb345b181256e73edc5b311",
       "version_major": 2,
       "version_minor": 0
      },
      "text/plain": [
       "HBox(children=(IntProgress(value=0, max=5000), HTML(value='')))"
      ]
     },
     "metadata": {},
     "output_type": "display_data"
    },
    {
     "name": "stderr",
     "output_type": "stream",
     "text": [
      "/cosma7/data/dp004/dc-quer1/qwind/qwind/aux_numba.py:234: IntegrationWarning: The integral is probably divergent, or slowly convergent.\n",
      "  r_max, args=(r, z), points=[r])[0]\n",
      "/cosma7/data/dp004/dc-quer1/qwind/qwind/aux_numba.py:236: IntegrationWarning: The integral is probably divergent, or slowly convergent.\n",
      "  r_max, args=(r, z), points=[r])[0]\n"
     ]
    },
    {
     "name": "stdout",
     "output_type": "stream",
     "text": [
      "Failed wind! \n",
      "\n"
     ]
    }
   ],
   "source": [
    "quad = wind.Qwind(radiation_mode=\"SimpleSED\", modes=['gravityonly'])\n",
    "qline = quad.line(z_0 = 1)\n",
    "qline.iterate(niter=5000)"
   ]
  },
  {
   "cell_type": "code",
   "execution_count": 160,
   "metadata": {},
   "outputs": [
    {
     "name": "stdout",
     "output_type": "stream",
     "text": [
      "r_in: 200.000000 \n",
      " r_out: 1600.000000\n"
     ]
    },
    {
     "data": {
      "application/vnd.jupyter.widget-view+json": {
       "model_id": "bdccd84f08204f338d85a22520920452",
       "version_major": 2,
       "version_minor": 0
      },
      "text/plain": [
       "HBox(children=(IntProgress(value=0, max=5000), HTML(value='')))"
      ]
     },
     "metadata": {},
     "output_type": "display_data"
    },
    {
     "name": "stdout",
     "output_type": "stream",
     "text": [
      "Failed wind! \n",
      "\n"
     ]
    }
   ],
   "source": [
    "old = wind.Qwind(radiation_mode=\"SimpleSED\", modes=['old_integral', 'gravityonly'])\n",
    "oline = old.line(z_0 = 1)\n",
    "oline.iterate(niter=5000)"
   ]
  },
  {
   "cell_type": "code",
   "execution_count": 232,
   "metadata": {},
   "outputs": [
    {
     "name": "stdout",
     "output_type": "stream",
     "text": [
      "r_in: 200.000000 \n",
      " r_out: 1600.000000\n"
     ]
    },
    {
     "data": {
      "application/vnd.jupyter.widget-view+json": {
       "model_id": "89ec016c029a4e1ea2b201adabec7009",
       "version_major": 2,
       "version_minor": 0
      },
      "text/plain": [
       "HBox(children=(IntProgress(value=0, max=5000), HTML(value='')))"
      ]
     },
     "metadata": {},
     "output_type": "display_data"
    },
    {
     "name": "stdout",
     "output_type": "stream",
     "text": [
      "Failed wind! \n",
      "\n"
     ]
    }
   ],
   "source": [
    "dblquad = wind.Qwind(radiation_mode=\"SimpleSED\", modes=['dbl_quad', 'gravityonly'])\n",
    "dqline = dblquad.line(z_0 = 1)\n",
    "dqline.iterate(niter=5000)"
   ]
  },
  {
   "cell_type": "code",
   "execution_count": 199,
   "metadata": {},
   "outputs": [
    {
     "data": {
      "text/plain": [
       "[<matplotlib.lines.Line2D at 0x7f01f95c0320>]"
      ]
     },
     "execution_count": 199,
     "metadata": {},
     "output_type": "execute_result"
    },
    {
     "data": {
      "image/png": "[encoded data removed]",
      "text/plain": [
       "<Figure size 251.059x155.163 with 2 Axes>"
      ]
     },
     "metadata": {
      "needs_background": "light"
     },
     "output_type": "display_data"
    }
   ],
   "source": [
    "fig, ax = plt.subplots(1,2, figsize=set_size(), sharex = True, sharey=True)\n",
    "ax[0].plot(qline.r_hist, qline.z_hist)\n",
    "ax[1].plot(oline.r_hist, oline.z_hist)"
   ]
  },
  {
   "cell_type": "code",
   "execution_count": 201,
   "metadata": {},
   "outputs": [
    {
     "data": {
      "text/plain": [
       "Text(0.5, -0.05, 'Iteration number')"
      ]
     },
     "execution_count": 201,
     "metadata": {},
     "output_type": "execute_result"
    },
    {
     "data": {
      "image/png": "[encoded data removed]",
      "text/plain": [
       "<Figure size 251.059x155.163 with 2 Axes>"
      ]
     },
     "metadata": {
      "needs_background": "light"
     },
     "output_type": "display_data"
    }
   ],
   "source": [
    "fig, ax = plt.subplots(1,2, figsize=set_size(), sharex = True)\n",
    "ax[0].plot(np.array(qline.radiation.int_hist)[:,0], color = 'royalblue', linewidth = 2.5)\n",
    "ax[0].plot(np.array(dqline.radiation.int_hist)[:,0], color = 'teal', linewidth = 2.5, linestyle='--')\n",
    "ax[1].plot(np.array(qline.radiation.int_hist)[:,1], color = 'royalblue', linewidth = 2.5)\n",
    "ax[1].plot(np.array(dqline.radiation.int_hist)[:,1], color = 'teal', linewidth = 2.5, linestyle='--')\n",
    "ax[1].yaxis.tick_right()\n",
    "ax[0].set_ylabel(r\"Radiative acceleration [ cm s$^{-2}$]\")\n",
    "fig.text(0.5, -0.05, r\"Iteration number\", ha='center')"
   ]
  },
  {
   "cell_type": "code",
   "execution_count": 216,
   "metadata": {},
   "outputs": [],
   "source": [
    "r_range = np.geomspace(100,1600,51)\n",
    "z_range = np.geomspace(1, 500,50)"
   ]
  },
  {
   "cell_type": "code",
   "execution_count": 302,
   "metadata": {},
   "outputs": [
    {
     "name": "stderr",
     "output_type": "stream",
     "text": [
      "/cosma7/data/dp004/dc-quer1/miniconda3/envs/astro/lib/python3.7/site-packages/scipy/integrate/quadpack.py:860: IntegrationWarning: The integral is probably divergent, or slowly convergent.\n",
      "  **opt)\n",
      "/cosma7/data/dp004/dc-quer1/qwind/qwind/aux_numba.py:234: IntegrationWarning: The integral is probably divergent, or slowly convergent.\n",
      "  r_max, args=(r, z), points=[r])[0]\n",
      "/cosma7/data/dp004/dc-quer1/qwind/qwind/aux_numba.py:236: IntegrationWarning: The integral is probably divergent, or slowly convergent.\n",
      "  r_max, args=(r, z), points=[r])[0]\n",
      "/cosma7/data/dp004/dc-quer1/qwind/qwind/aux_numba.py:218: IntegrationWarning: The integral is probably divergent, or slowly convergent.\n",
      "  args=(r_d, r, z), points=[0])[0]\n"
     ]
    }
   ],
   "source": [
    "old_grid = []\n",
    "q_grid = []\n",
    "dq_grid = []\n",
    "dq_error_grid = []\n",
    "for r in r_range:\n",
    "    for z in z_range:\n",
    "        old_int = np.array(aux_numba.qwind_integration(r,z))\n",
    "        old_grid.append(old_int)\n",
    "        q_int = np.array(aux_numba.integration_quad_nointerp(r,z, dblquad.r_min, dblquad.r_max ))\n",
    "        q_grid.append(q_int)\n",
    "        dq_int = np.array(aux_numba.qwind_integration_dblquad(r, z, dblquad.r_min, dblquad.r_max))\n",
    "        dq_int_val = dq_int[[0,1]]\n",
    "        dq_error = np.array(dq_int[[2,3]]) / dq_int_val\n",
    "        dq_grid.append(dq_int_val)\n",
    "        dq_error_grid.append(dq_error)\n",
    "old_grid = np.array(old_grid).reshape(51,50,2)\n",
    "q_grid = np.array(q_grid).reshape(51,50,2)\n",
    "dq_grid = np.array(dq_grid).reshape(51,50,2)\n",
    "dq_error_grid = np.array(dq_error_grid).reshape(51,50,2)\n",
    "\n",
    "\n",
    "\n"
   ]
  },
  {
   "cell_type": "code",
   "execution_count": 305,
   "metadata": {},
   "outputs": [
    {
     "data": {
      "text/plain": [
       "Text(0.5, 0.02, 'R [ $R_g$ ]')"
      ]
     },
     "execution_count": 305,
     "metadata": {},
     "output_type": "execute_result"
    },
    {
     "data": {
      "image/png": "[encoded data removed]",
      "text/plain": [
       "<Figure size 502.117x310.325 with 3 Axes>"
      ]
     },
     "metadata": {
      "needs_background": "light"
     },
     "output_type": "display_data"
    }
   ],
   "source": [
    "fig, ax = plt.subplots(1,2, figsize=set_size(\"mnras_double\"), sharex=True, sharey=True)\n",
    "plt.subplots_adjust(wspace = 0.05)\n",
    "cmap1 = plotting.pcolormesh_sensible(r_range, z_range, old_grid[...,0], ax[0], cmap = \"plasma\", vmin = 1e-10, vmax = 1e-6)\n",
    "cmap2 = plotting.pcolormesh_sensible(r_range, z_range, old_grid[...,1], ax[1], cmap = \"plasma\", vmin = 1e-10, vmax = 1e-6)\n",
    "cbar_ax = fig.add_axes([0.92, 0.13, 0.02, 0.75])\n",
    "fig.colorbar(cmap1, cax=cbar_ax)\n",
    "ax[0].set_ylabel(r\"Z [ $R_g$ ]\")\n",
    "fig.text(0.5, 0.02, r\"R [ $R_g$ ]\", ha='center')"
   ]
  },
  {
   "cell_type": "markdown",
   "metadata": {},
   "source": [
    "# dblquad values"
   ]
  },
  {
   "cell_type": "code",
   "execution_count": 296,
   "metadata": {},
   "outputs": [
    {
     "data": {
      "text/plain": [
       "Text(0.5, 0.02, 'R [ $R_g$ ]')"
      ]
     },
     "execution_count": 296,
     "metadata": {},
     "output_type": "execute_result"
    },
    {
     "data": {
      "image/png": "[encoded data removed]",
      "text/plain": [
       "<Figure size 502.117x310.325 with 3 Axes>"
      ]
     },
     "metadata": {
      "needs_background": "light"
     },
     "output_type": "display_data"
    }
   ],
   "source": [
    "fig, ax = plt.subplots(1,2, figsize=set_size(\"mnras_double\"), sharex=True, sharey=True)\n",
    "plt.subplots_adjust(wspace = 0.05)\n",
    "cmap1 = plotting.pcolormesh_sensible(r_range, z_range, dq_grid[...,0], ax[0], cmap = \"plasma\", vmin = 1e-10, vmax = 1e-6)\n",
    "cmap2 = plotting.pcolormesh_sensible(r_range, z_range, dq_grid[...,1], ax[1], cmap = \"plasma\", vmin = 1e-10, vmax = 1e-6)\n",
    "cbar_ax = fig.add_axes([0.92, 0.13, 0.02, 0.75])\n",
    "fig.colorbar(cmap1, cax=cbar_ax)\n",
    "ax[0].set_ylabel(r\"Z [ $R_g$ ]\")\n",
    "fig.text(0.5, 0.02, r\"R [ $R_g$ ]\", ha='center')"
   ]
  },
  {
   "cell_type": "markdown",
   "metadata": {},
   "source": [
    "# dblquad errors"
   ]
  },
  {
   "cell_type": "code",
   "execution_count": 299,
   "metadata": {},
   "outputs": [
    {
     "data": {
      "text/plain": [
       "Text(0.5, 0.02, 'R [ $R_g$ ]')"
      ]
     },
     "execution_count": 299,
     "metadata": {},
     "output_type": "execute_result"
    },
    {
     "data": {
      "image/png": "[encoded data removed]",
      "text/plain": [
       "<Figure size 502.117x310.325 with 3 Axes>"
      ]
     },
     "metadata": {
      "needs_background": "light"
     },
     "output_type": "display_data"
    }
   ],
   "source": [
    "fig, ax = plt.subplots(1,2, figsize=set_size(\"mnras_double\"), sharex=True, sharey=True)\n",
    "plt.subplots_adjust(wspace = 0.05)\n",
    "cmap1 = plotting.pcolormesh_sensible(r_range, z_range, dq_error_grid[...,0], ax[0], cmap = \"plasma\", vmin = 1e-3, vmax = 1)\n",
    "cmap2 = plotting.pcolormesh_sensible(r_range, z_range, dq_error_grid[...,1], ax[1], cmap = \"plasma\", vmin = 1e-3, vmax = 1)\n",
    "cbar_ax = fig.add_axes([0.92, 0.13, 0.02, 0.75])\n",
    "fig.colorbar(cmap1, cax=cbar_ax)\n",
    "ax[0].set_ylabel(r\"Z [ $R_g$ ]\")\n",
    "fig.text(0.5, 0.02, r\"R [ $R_g$ ]\", ha='center')"
   ]
  },
  {
   "cell_type": "code",
   "execution_count": null,
   "metadata": {},
   "outputs": [],
   "source": []
  }
 ],
 "metadata": {
  "kernelspec": {
   "display_name": "Python 3",
   "language": "python",
   "name": "python3"
  },
  "language_info": {
   "codemirror_mode": {
    "name": "ipython",
    "version": 3
   },
   "file_extension": ".py",
   "mimetype": "text/x-python",
   "name": "python",
   "nbconvert_exporter": "python",
   "pygments_lexer": "ipython3",
   "version": "3.7.3"
  }
 },
 "nbformat": 4,
 "nbformat_minor": 4
}
