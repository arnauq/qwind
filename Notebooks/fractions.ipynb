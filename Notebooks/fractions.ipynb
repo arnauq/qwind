{
 "cells": [
  {
   "cell_type": "code",
   "execution_count": 1,
   "metadata": {},
   "outputs": [],
   "source": [
    "import numpy as np\n",
    "import matplotlib.pyplot as plt\n",
    "import seaborn as sns\n",
    "sns.set_context(\"talk\")\n",
    "import pandas as pd\n",
    "from matplotlib.colors import LogNorm\n",
    "from glob import glob\n",
    "import os\n",
    "import importlib\n",
    "from qwind import constants\n",
    "import pyagn\n",
    "importlib.reload(pyagn)\n",
    "from pyagn import sed\n",
    "import plotting"
   ]
  },
  {
   "cell_type": "code",
   "execution_count": 2,
   "metadata": {},
   "outputs": [],
   "source": [
    "M_range = np.geomspace(1e7,1e10, 10)\n",
    "mdot_range = np.geomspace(0.05, 1, 10)"
   ]
  },
  {
   "cell_type": "code",
   "execution_count": 3,
   "metadata": {},
   "outputs": [],
   "source": [
    "fractions = []\n",
    "for M in M_range:\n",
    "    for mdot in mdot_range:\n",
    "        bh = sed.SED(M=M, mdot = mdot)\n",
    "        fractions.append([bh.uv_fraction, bh.xray_fraction])\n",
    "        "
   ]
  },
  {
   "cell_type": "code",
   "execution_count": 4,
   "metadata": {},
   "outputs": [],
   "source": [
    "fractions = np.array(fractions)"
   ]
  },
  {
   "cell_type": "code",
   "execution_count": 5,
   "metadata": {},
   "outputs": [],
   "source": [
    "fractions = fractions.reshape(10,10,2)"
   ]
  },
  {
   "cell_type": "code",
   "execution_count": 6,
   "metadata": {},
   "outputs": [],
   "source": [
    "fraction_uv = fractions[...,0]\n",
    "fraction_xray = fractions[...,1]"
   ]
  },
  {
   "cell_type": "code",
   "execution_count": 7,
   "metadata": {},
   "outputs": [
    {
     "data": {
      "image/png": "[encoded data removed]",
      "text/plain": [
       "<Figure size 864x360 with 4 Axes>"
      ]
     },
     "metadata": {
      "needs_background": "light"
     },
     "output_type": "display_data"
    }
   ],
   "source": [
    "fig, ax = plt.subplots(1,2, figsize=(12,5))\n",
    "\n",
    "#uv = ax[0].pcolormesh(np.log10(M_range), np.log10(mdot_range), fraction_uv)\n",
    "uv = plotting.pcolormesh_sensible(M_range, mdot_range, fraction_uv, ax[0]) \n",
    "plt.colorbar(uv, ax = ax[0])\n",
    "ax[0].set_title(\"UV fraction\")\n",
    "\n",
    "#xr = ax[1].pcolormesh(np.log10(M_range), np.log10(mdot_range), fraction_xray)\n",
    "xr = plotting.pcolormesh_sensible(M_range, mdot_range, fraction_xray, ax[1]) \n",
    "plt.colorbar(xr, ax = ax[1])\n",
    "ax[1].set_title(\"X-Ray fraction\")\n",
    "\n",
    "for axis in ax:\n",
    "    axis.set_xlabel(r\"$\\;M_\\mathrm{BH} \\;/$ [M$_\\odot$]\")\n",
    "    axis.set_ylabel(r\"$ \\dot m$\")\n",
    "#    labels = [item.get_text().replace(\"−\", \"-\") for item in ax[0].get_yticklabels()]\n",
    "    \n",
    "    #labels = [10**float(label) for label in labels]\n",
    "    #ax[0].set_xticklabels(labels)\n",
    "\n",
    "plt.tight_layout()\n",
    "#labels = [float(item.get_text().replace(\"−\", \"-\")) for item in ax[0].get_yticklabels()]\n",
    "#labels_new = [\"%.2f\"%(10**label) for label in labels]\n",
    "#a = ax[0].set_yticklabels(labels_new)\n",
    "\n",
    "#labels = [float(item.get_text().replace(\"−\", \"-\")) for item in ax[1].get_yticklabels()]\n",
    "#labels_new = [\"%.2f\"%(10**label) for label in labels]\n",
    "#b = ax[1].set_yticklabels(labels_new)\n",
    "plt.savefig(\"../../UV_XR_fractions.png\", dpi=200, bbox_to_inches=\"tight\")"
   ]
  },
  {
   "cell_type": "code",
   "execution_count": 80,
   "metadata": {},
   "outputs": [],
   "source": [
    "asd = ax[0].get_yticklabels()[0]"
   ]
  },
  {
   "cell_type": "code",
   "execution_count": 85,
   "metadata": {},
   "outputs": [],
   "source": [
    "a = asd.get_text()"
   ]
  },
  {
   "cell_type": "code",
   "execution_count": 94,
   "metadata": {},
   "outputs": [
    {
     "data": {
      "text/plain": [
       "'−1.4'"
      ]
     },
     "execution_count": 94,
     "metadata": {},
     "output_type": "execute_result"
    }
   ],
   "source": [
    "a"
   ]
  },
  {
   "cell_type": "code",
   "execution_count": 97,
   "metadata": {},
   "outputs": [
    {
     "data": {
      "text/plain": [
       "'-1.4'"
      ]
     },
     "execution_count": 97,
     "metadata": {},
     "output_type": "execute_result"
    }
   ],
   "source": [
    "a.replace(\"−\", \"-\")"
   ]
  },
  {
   "cell_type": "code",
   "execution_count": 98,
   "metadata": {},
   "outputs": [
    {
     "data": {
      "text/plain": [
       "-1.4"
      ]
     },
     "execution_count": 98,
     "metadata": {},
     "output_type": "execute_result"
    }
   ],
   "source": [
    "float(a)"
   ]
  },
  {
   "cell_type": "code",
   "execution_count": 104,
   "metadata": {},
   "outputs": [],
   "source": [
    "labels = [item.get_text().replace(\"−\", \"-\") for item in ax[0].get_yticklabels()]"
   ]
  },
  {
   "cell_type": "code",
   "execution_count": 105,
   "metadata": {},
   "outputs": [
    {
     "data": {
      "text/plain": [
       "['-1.4', '-1.2', '-1.0', '-0.8', '-0.6', '-0.4', '-0.2', '0.0']"
      ]
     },
     "execution_count": 105,
     "metadata": {},
     "output_type": "execute_result"
    }
   ],
   "source": [
    "labels"
   ]
  },
  {
   "cell_type": "code",
   "execution_count": null,
   "metadata": {},
   "outputs": [],
   "source": []
  }
 ],
 "metadata": {
  "kernelspec": {
   "display_name": "Python 3",
   "language": "python",
   "name": "python3"
  },
  "language_info": {
   "codemirror_mode": {
    "name": "ipython",
    "version": 3
   },
   "file_extension": ".py",
   "mimetype": "text/x-python",
   "name": "python",
   "nbconvert_exporter": "python",
   "pygments_lexer": "ipython3",
   "version": "3.7.3"
  }
 },
 "nbformat": 4,
 "nbformat_minor": 2
}
