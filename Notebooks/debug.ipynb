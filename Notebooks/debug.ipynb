{
 "cells": [
  {
   "cell_type": "code",
<<<<<<< HEAD
   "execution_count": 37,
   "metadata": {},
   "outputs": [],
=======
   "execution_count": 31,
   "metadata": {},
   "outputs": [
    {
     "data": {
      "text/plain": [
       "<module 'plotting' from '/cosma7/data/dp004/dc-quer1/qwind/Notebooks/plotting.py'>"
      ]
     },
     "execution_count": 31,
     "metadata": {},
     "output_type": "execute_result"
    }
   ],
>>>>>>> db78f476029d6bd042a97412cd099368bb38a194
   "source": [
    "from qwind import wind\n",
    "import numpy as np\n",
    "import matplotlib.pyplot as plt\n",
    "import seaborn as sns\n",
    "sns.set_context(\"talk\")\n",
    "import pandas as pd\n",
    "%matplotlib inline\n",
    "from matplotlib.colors import LogNorm\n",
    "from glob import glob\n",
    "import os\n",
    "from qwind import constants\n",
    "from pyagn import sed\n",
    "from scipy.optimize import curve_fit\n",
    "import importlib"
   ]
  },
  {
   "cell_type": "code",
<<<<<<< HEAD
   "execution_count": 4,
=======
   "execution_count": 90,
   "metadata": {},
   "outputs": [],
   "source": [
    "from pyagn import sed"
   ]
  },
  {
   "cell_type": "code",
   "execution_count": 92,
   "metadata": {},
   "outputs": [
    {
     "data": {
      "text/plain": [
       "0.15250548492438915"
      ]
     },
     "execution_count": 92,
     "metadata": {},
     "output_type": "execute_result"
    }
   ],
   "source": [
    "asd = sed.SED(M=1e8, mdot = 0.5)\n",
    "asd.xray_fraction"
   ]
  },
  {
   "cell_type": "code",
   "execution_count": 32,
>>>>>>> db78f476029d6bd042a97412cd099368bb38a194
   "metadata": {},
   "outputs": [
    {
     "name": "stdout",
     "output_type": "stream",
     "text": [
      "[1.00000000e+07 1.58489319e+07 2.51188643e+07 3.98107171e+07\n",
      " 6.30957344e+07 1.00000000e+08 1.58489319e+08 2.51188643e+08\n",
      " 3.98107171e+08 6.30957344e+08 1.00000000e+09]\n"
     ]
    },
    {
     "data": {
      "text/plain": [
       "array([0.05      , 0.06974754, 0.09729439, 0.13572088, 0.18932395,\n",
       "       0.2640976 , 0.36840315, 0.51390427, 0.71687116, 1.        ])"
      ]
     },
<<<<<<< HEAD
     "execution_count": 4,
=======
     "execution_count": 32,
>>>>>>> db78f476029d6bd042a97412cd099368bb38a194
     "metadata": {},
     "output_type": "execute_result"
    }
   ],
   "source": [
    "M_range = np.geomspace(1e7,1e9,11)\n",
    "print(M_range)\n",
    "mdot_range = np.geomspace(0.05,1,10)\n",
    "mdot_range"
   ]
  },
  {
   "cell_type": "code",
<<<<<<< HEAD
   "execution_count": 5,
=======
   "execution_count": 33,
>>>>>>> db78f476029d6bd042a97412cd099368bb38a194
   "metadata": {},
   "outputs": [
    {
     "name": "stdout",
     "output_type": "stream",
     "text": [
      "1.000000e+08, 0.100000 \n"
     ]
    }
   ],
   "source": [
    "M = 1e8\n",
    "mdot = 0.1\n",
    "rho = 2e8\n",
    "print(\"%e, %f \" %(M,mdot))"
   ]
  },
  {
   "cell_type": "code",
<<<<<<< HEAD
   "execution_count": 6,
=======
   "execution_count": 35,
>>>>>>> db78f476029d6bd042a97412cd099368bb38a194
   "metadata": {},
   "outputs": [
    {
     "name": "stdout",
     "output_type": "stream",
     "text": [
      "r_in: 200.000000 \n",
      " r_out: 1600.000000\n"
     ]
    }
   ],
   "source": [
    "test = wind.Qwind(M=M, mdot = mdot, n_cpus = 4, nr = 20, eta = 0.0313, rho_shielding = rho, modes = ['old_integral', 'old_sed'])"
   ]
  },
  {
   "cell_type": "code",
<<<<<<< HEAD
   "execution_count": 7,
=======
   "execution_count": 36,
>>>>>>> db78f476029d6bd042a97412cd099368bb38a194
   "metadata": {},
   "outputs": [
    {
     "name": "stdout",
     "output_type": "stream",
     "text": [
      "Starting line iteration\n",
      "multiple cpus\n",
      "Failed wind! \n",
      "\n"
     ]
    },
    {
     "data": {
      "application/vnd.jupyter.widget-view+json": {
<<<<<<< HEAD
       "model_id": "3358206b6370464584eaab46fc972850",
=======
       "model_id": "9dc9b182a60b4668978a3af452afb166",
>>>>>>> db78f476029d6bd042a97412cd099368bb38a194
       "version_major": 2,
       "version_minor": 0
      },
      "text/plain": [
       "HBox(children=(IntProgress(value=0, max=50000), HTML(value='')))"
      ]
     },
     "metadata": {},
     "output_type": "display_data"
    },
    {
     "name": "stdout",
     "output_type": "stream",
     "text": [
      "escape velocity reached.\n",
      "escape velocity reached.\n",
      "Failed wind! \n",
      "\n"
     ]
    },
    {
     "data": {
      "application/vnd.jupyter.widget-view+json": {
<<<<<<< HEAD
       "model_id": "0aaf0f4b110b455eb97d700291294313",
=======
       "model_id": "6d5d13384a894b5d938ac9746a98718d",
>>>>>>> db78f476029d6bd042a97412cd099368bb38a194
       "version_major": 2,
       "version_minor": 0
      },
      "text/plain": [
       "HBox(children=(IntProgress(value=0, max=50000), HTML(value='')))"
      ]
     },
     "metadata": {},
     "output_type": "display_data"
    },
    {
     "name": "stdout",
     "output_type": "stream",
     "text": [
      "out of grid \n",
      "\n"
     ]
    },
    {
     "data": {
      "application/vnd.jupyter.widget-view+json": {
<<<<<<< HEAD
       "model_id": "356cf24d4dc142f1b70f2e17db892eeb",
=======
       "model_id": "efb585bc502249418a3d9ab227aad961",
>>>>>>> db78f476029d6bd042a97412cd099368bb38a194
       "version_major": 2,
       "version_minor": 0
      },
      "text/plain": [
       "HBox(children=(IntProgress(value=0, max=50000), HTML(value='')))"
      ]
     },
     "metadata": {},
     "output_type": "display_data"
    },
    {
     "name": "stdout",
     "output_type": "stream",
     "text": [
      "out of grid \n",
      "\n"
     ]
    },
    {
     "data": {
      "application/vnd.jupyter.widget-view+json": {
<<<<<<< HEAD
       "model_id": "8bb9cfaf57804dc0b41f506451acc26d",
=======
       "model_id": "96336fe610ed47e2ac9a1c4fdd5caba8",
>>>>>>> db78f476029d6bd042a97412cd099368bb38a194
       "version_major": 2,
       "version_minor": 0
      },
      "text/plain": [
       "HBox(children=(IntProgress(value=0, max=50000), HTML(value='')))"
      ]
     },
     "metadata": {},
     "output_type": "display_data"
    },
    {
     "name": "stdout",
     "output_type": "stream",
     "text": [
      "Failed wind! \n",
      "\n"
     ]
    },
    {
     "data": {
      "application/vnd.jupyter.widget-view+json": {
<<<<<<< HEAD
       "model_id": "7f8376b63ea544ab8100f9c995afdac9",
=======
       "model_id": "bf0a59c6529c492eb491e3ddcabced70",
>>>>>>> db78f476029d6bd042a97412cd099368bb38a194
       "version_major": 2,
       "version_minor": 0
      },
      "text/plain": [
       "HBox(children=(IntProgress(value=0, max=50000), HTML(value='')))"
      ]
     },
     "metadata": {},
     "output_type": "display_data"
    },
    {
     "name": "stdout",
     "output_type": "stream",
     "text": [
      "Failed wind! \n",
      "\n"
     ]
    },
    {
     "data": {
      "application/vnd.jupyter.widget-view+json": {
<<<<<<< HEAD
       "model_id": "f4afac1c0f5c4c4a9968c2e3715242af",
=======
       "model_id": "83f684a6e10d401d8deeb676ffc48aba",
>>>>>>> db78f476029d6bd042a97412cd099368bb38a194
       "version_major": 2,
       "version_minor": 0
      },
      "text/plain": [
       "HBox(children=(IntProgress(value=0, max=50000), HTML(value='')))"
      ]
     },
     "metadata": {},
     "output_type": "display_data"
    },
    {
     "name": "stdout",
     "output_type": "stream",
     "text": [
      "Failed wind! \n",
      "\n"
     ]
    },
    {
     "data": {
      "application/vnd.jupyter.widget-view+json": {
<<<<<<< HEAD
       "model_id": "4970d7e7fb4647598ff256dba07bd9c5",
=======
       "model_id": "9c1f67cee92b4c5cbf29c8f30feb00eb",
>>>>>>> db78f476029d6bd042a97412cd099368bb38a194
       "version_major": 2,
       "version_minor": 0
      },
      "text/plain": [
       "HBox(children=(IntProgress(value=0, max=50000), HTML(value='')))"
      ]
     },
     "metadata": {},
     "output_type": "display_data"
    },
    {
     "name": "stdout",
     "output_type": "stream",
     "text": [
      "Failed wind! \n",
      "\n"
     ]
    },
    {
     "data": {
      "application/vnd.jupyter.widget-view+json": {
<<<<<<< HEAD
       "model_id": "c01d6df7013c4827b890a85f13bc7da6",
=======
       "model_id": "c7b32ff386e44d399729bcfc3cf1db87",
>>>>>>> db78f476029d6bd042a97412cd099368bb38a194
       "version_major": 2,
       "version_minor": 0
      },
      "text/plain": [
       "HBox(children=(IntProgress(value=0, max=50000), HTML(value='')))"
      ]
     },
     "metadata": {},
     "output_type": "display_data"
    },
    {
     "name": "stdout",
     "output_type": "stream",
     "text": [
      "Failed wind! \n",
      "\n"
     ]
    },
    {
     "data": {
      "application/vnd.jupyter.widget-view+json": {
<<<<<<< HEAD
       "model_id": "d18f6ab5e9254d3d8422927ee8ca3b5f",
=======
       "model_id": "243050bc634e47358782cf1eba608ee6",
>>>>>>> db78f476029d6bd042a97412cd099368bb38a194
       "version_major": 2,
       "version_minor": 0
      },
      "text/plain": [
       "HBox(children=(IntProgress(value=0, max=50000), HTML(value='')))"
      ]
     },
     "metadata": {},
     "output_type": "display_data"
    },
    {
     "name": "stdout",
     "output_type": "stream",
     "text": [
      "Failed wind! \n",
      "\n",
      "Failed wind! \n",
      "\n"
     ]
    },
    {
     "data": {
      "application/vnd.jupyter.widget-view+json": {
<<<<<<< HEAD
       "model_id": "75ea90d99ec74f5da5aa25e3c10407e7",
=======
       "model_id": "5a16d548e275440f95415c1ea573d8c3",
>>>>>>> db78f476029d6bd042a97412cd099368bb38a194
       "version_major": 2,
       "version_minor": 0
      },
      "text/plain": [
       "HBox(children=(IntProgress(value=0, max=50000), HTML(value='')))"
      ]
     },
     "metadata": {},
     "output_type": "display_data"
    },
    {
     "data": {
      "application/vnd.jupyter.widget-view+json": {
<<<<<<< HEAD
       "model_id": "7d69350b7a8a4f9386e7f500103876e6",
=======
       "model_id": "a8cc407987534c7d9db91dd7ad12d3b8",
>>>>>>> db78f476029d6bd042a97412cd099368bb38a194
       "version_major": 2,
       "version_minor": 0
      },
      "text/plain": [
       "HBox(children=(IntProgress(value=0, max=50000), HTML(value='')))"
      ]
     },
     "metadata": {},
     "output_type": "display_data"
    },
    {
     "name": "stdout",
     "output_type": "stream",
     "text": [
      "Failed wind! \n",
      "\n"
     ]
    },
    {
     "data": {
      "application/vnd.jupyter.widget-view+json": {
<<<<<<< HEAD
       "model_id": "e71bf8fc2b564435a9bba3a413da2034",
=======
       "model_id": "a80b03b03ec1428ab7191e994c45469f",
>>>>>>> db78f476029d6bd042a97412cd099368bb38a194
       "version_major": 2,
       "version_minor": 0
      },
      "text/plain": [
       "HBox(children=(IntProgress(value=0, max=50000), HTML(value='')))"
      ]
     },
     "metadata": {},
     "output_type": "display_data"
    },
    {
     "name": "stdout",
     "output_type": "stream",
     "text": [
      "Failed wind! \n",
      "\n"
     ]
    },
    {
     "data": {
      "application/vnd.jupyter.widget-view+json": {
<<<<<<< HEAD
       "model_id": "d38f17233d6346e8bc49e1d42426c68a",
=======
       "model_id": "3d0ec68b0a0f41d8883c0849498f544d",
>>>>>>> db78f476029d6bd042a97412cd099368bb38a194
       "version_major": 2,
       "version_minor": 0
      },
      "text/plain": [
       "HBox(children=(IntProgress(value=0, max=50000), HTML(value='')))"
      ]
     },
     "metadata": {},
     "output_type": "display_data"
    },
    {
     "name": "stdout",
     "output_type": "stream",
     "text": [
      "Failed wind! \n",
      "\n"
     ]
    },
    {
     "data": {
      "application/vnd.jupyter.widget-view+json": {
<<<<<<< HEAD
       "model_id": "3c5a6c11cdda43e3abc2d9b2ca2a23c6",
=======
       "model_id": "20d81b176cf74265affc7a919c6ec64d",
>>>>>>> db78f476029d6bd042a97412cd099368bb38a194
       "version_major": 2,
       "version_minor": 0
      },
      "text/plain": [
       "HBox(children=(IntProgress(value=0, max=50000), HTML(value='')))"
      ]
     },
     "metadata": {},
     "output_type": "display_data"
    },
    {
     "name": "stdout",
     "output_type": "stream",
     "text": [
      "Failed wind! \n",
      "\n",
      "Failed wind! \n",
      "\n"
     ]
    },
    {
     "data": {
      "application/vnd.jupyter.widget-view+json": {
<<<<<<< HEAD
       "model_id": "2873233a863c408cb28b1b39f02c5cf0",
=======
       "model_id": "80f63463a96645eab11905adf2285e22",
>>>>>>> db78f476029d6bd042a97412cd099368bb38a194
       "version_major": 2,
       "version_minor": 0
      },
      "text/plain": [
       "HBox(children=(IntProgress(value=0, max=50000), HTML(value='')))"
      ]
     },
     "metadata": {},
     "output_type": "display_data"
    },
    {
     "name": "stdout",
     "output_type": "stream",
     "text": [
      "Failed wind! \n",
      "\n"
     ]
    },
    {
     "data": {
      "application/vnd.jupyter.widget-view+json": {
<<<<<<< HEAD
       "model_id": "8ffa4f11feb44ac08295fdf346e67fe7",
=======
       "model_id": "54bdfbc539f947f7987c1c207d0f8356",
>>>>>>> db78f476029d6bd042a97412cd099368bb38a194
       "version_major": 2,
       "version_minor": 0
      },
      "text/plain": [
       "HBox(children=(IntProgress(value=0, max=50000), HTML(value='')))"
      ]
     },
     "metadata": {},
     "output_type": "display_data"
    },
    {
     "name": "stdout",
     "output_type": "stream",
     "text": [
      "Failed wind! \n",
      "\n",
      "Failed wind! \n",
      "\n",
      "Failed wind! \n",
      "\n"
     ]
    },
    {
     "data": {
<<<<<<< HEAD
      "application/vnd.jupyter.widget-view+json": {
       "model_id": "23a269815ce94321bc61c8c8c8922633",
       "version_major": 2,
       "version_minor": 0
      },
=======
>>>>>>> db78f476029d6bd042a97412cd099368bb38a194
      "text/plain": [
       "[<qwind.streamline.streamline at 0x7fc59439e828>,\n",
       " <qwind.streamline.streamline at 0x7fc5943a2b38>,\n",
       " <qwind.streamline.streamline at 0x7fc570172358>,\n",
       " <qwind.streamline.streamline at 0x7fc56a51d550>,\n",
       " <qwind.streamline.streamline at 0x7fc594414b70>,\n",
       " <qwind.streamline.streamline at 0x7fc5701ef390>,\n",
       " <qwind.streamline.streamline at 0x7fc5943a2278>,\n",
       " <qwind.streamline.streamline at 0x7fc570172780>,\n",
       " <qwind.streamline.streamline at 0x7fc56a51d4e0>,\n",
       " <qwind.streamline.streamline at 0x7fc5701eff98>,\n",
       " <qwind.streamline.streamline at 0x7fc56a51df28>,\n",
       " <qwind.streamline.streamline at 0x7fc5701ef710>,\n",
       " <qwind.streamline.streamline at 0x7fc56a51da58>,\n",
       " <qwind.streamline.streamline at 0x7fc5701efba8>,\n",
       " <qwind.streamline.streamline at 0x7fc5701ef8d0>,\n",
       " <qwind.streamline.streamline at 0x7fc570191668>,\n",
       " <qwind.streamline.streamline at 0x7fc5701ef1d0>,\n",
       " <qwind.streamline.streamline at 0x7fc60175ee80>,\n",
       " <qwind.streamline.streamline at 0x7fc60175ea90>,\n",
       " <qwind.streamline.streamline at 0x7fc570191550>]"
      ]
     },
     "execution_count": 36,
     "metadata": {},
     "output_type": "execute_result"
    }
   ],
   "source": [
    "test.start_lines(niter = 50000)"
   ]
  },
  {
   "cell_type": "code",
   "execution_count": 38,
   "metadata": {},
   "outputs": [
    {
     "data": {
<<<<<<< HEAD
      "application/vnd.jupyter.widget-view+json": {
       "model_id": "0117d5f9d48c449894d79ff22e99c8ae",
       "version_major": 2,
       "version_minor": 0
      },
=======
      "image/png": "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\n",
>>>>>>> db78f476029d6bd042a97412cd099368bb38a194
      "text/plain": [
       "<Figure size 432x288 with 1 Axes>"
      ]
     },
     "metadata": {
      "needs_background": "light"
     },
     "output_type": "display_data"
    }
   ],
   "source": [
    "for line in test.lines:\n",
    "    plt.plot(line.r_hist, line.z_hist)"
   ]
  },
  {
   "cell_type": "code",
   "execution_count": 39,
   "metadata": {},
   "outputs": [],
   "source": [
    "def read_qwind_file(file):\n",
    "    df = pd.read_csv(file, sep = \"\\s+\", skiprows=1,  names =['time', 'R', 'PHI', 'Z', 'Vz[km/s]', 'Ve[km/s]', 'fm', 'abs_uv', 'Vtot[km/s]', 'Tau_xt', 'xi_t', 'dv_dr[s]', 'd', 'tau_s', 'Fr_grav[cm/s^2]', 'fr_rad[cm/s^2]', 'L', 'Labs', 'iter', 'tau_eff','r_eff0','r_eff','tau_uv_t', 'Ir', 'Iz', 'tau_X'])\n",
    "    return df"
   ]
  },
  {
   "cell_type": "code",
   "execution_count": 40,
   "metadata": {},
   "outputs": [],
   "source": [
    "originals = glob(\"../../qwind_original/bin64/qw_paper/qwi*\")"
   ]
  },
  {
   "cell_type": "code",
   "execution_count": 42,
   "metadata": {},
   "outputs": [
    {
     "data": {
<<<<<<< HEAD
      "application/vnd.jupyter.widget-view+json": {
       "model_id": "dddd10c58d51413faff517eea210e8c3",
       "version_major": 2,
       "version_minor": 0
      },
=======
      "image/png": "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\n",
>>>>>>> db78f476029d6bd042a97412cd099368bb38a194
      "text/plain": [
       "<Figure size 432x288 with 1 Axes>"
      ]
     },
     "metadata": {
      "needs_background": "light"
     },
     "output_type": "display_data"
    }
   ],
   "source": [
    "for line in test.lines:\n",
    "    plt.plot(line.r_hist, line.z_hist)\n",
    "#plt.xlim(0,1000)\n",
    "#plt.ylim(0,100)"
   ]
  },
  {
   "cell_type": "code",
   "execution_count": 68,
   "metadata": {},
   "outputs": [
    {
     "data": {
<<<<<<< HEAD
      "application/vnd.jupyter.widget-view+json": {
       "model_id": "1ba91ea4d2d74c2da1f55a4f77742914",
       "version_major": 2,
       "version_minor": 0
      },
=======
>>>>>>> db78f476029d6bd042a97412cd099368bb38a194
      "text/plain": [
       "True"
      ]
     },
     "execution_count": 68,
     "metadata": {},
     "output_type": "execute_result"
    }
   ],
   "source": [
    "test.lines[1].escaped"
   ]
  },
  {
   "cell_type": "code",
   "execution_count": 81,
   "metadata": {},
   "outputs": [
    {
     "name": "stdout",
     "output_type": "stream",
     "text": [
      "r_in: 200.000000 \n",
      " r_out: 1600.000000\n"
     ]
    }
   ],
   "source": [
    "asd = wind.Qwind(M=1e8, mdot = 0.5)"
   ]
  },
  {
   "cell_type": "code",
   "execution_count": 84,
   "metadata": {},
   "outputs": [
    {
     "data": {
      "text/plain": [
<<<<<<< HEAD
       "[<qwind.streamline.streamline at 0x7faa69004080>,\n",
       " <qwind.streamline.streamline at 0x7faa69004048>,\n",
       " <qwind.streamline.streamline at 0x7faa69004198>,\n",
       " <qwind.streamline.streamline at 0x7faa69004160>,\n",
       " <qwind.streamline.streamline at 0x7faa690049b0>,\n",
       " <qwind.streamline.streamline at 0x7faa690049e8>,\n",
       " <qwind.streamline.streamline at 0x7faa69004a20>,\n",
       " <qwind.streamline.streamline at 0x7faa69004a90>,\n",
       " <qwind.streamline.streamline at 0x7faa69004e80>,\n",
       " <qwind.streamline.streamline at 0x7faa69004eb8>,\n",
       " <qwind.streamline.streamline at 0x7faa69004ef0>,\n",
       " <qwind.streamline.streamline at 0x7faa98677470>,\n",
       " <qwind.streamline.streamline at 0x7faa68f9ffd0>,\n",
       " <qwind.streamline.streamline at 0x7faa68f9feb8>,\n",
       " <qwind.streamline.streamline at 0x7faa68f9fef0>,\n",
       " <qwind.streamline.streamline at 0x7faa68f9fe80>,\n",
       " <qwind.streamline.streamline at 0x7faa68f9ff98>,\n",
       " <qwind.streamline.streamline at 0x7faa68fa9198>,\n",
       " <qwind.streamline.streamline at 0x7faa68fa91d0>,\n",
       " <qwind.streamline.streamline at 0x7faa68fa90f0>]"
      ]
     },
     "execution_count": 7,
=======
       "6.575996328521393e+32"
      ]
     },
     "execution_count": 84,
>>>>>>> db78f476029d6bd042a97412cd099368bb38a194
     "metadata": {},
     "output_type": "execute_result"
    }
   ],
   "source": [
    "A = 8 * np.pi * asd.Rg**2 * (400**2 - 200**2)\n",
    "A"
   ]
  },
  {
   "cell_type": "code",
<<<<<<< HEAD
   "execution_count": 17,
=======
   "execution_count": 85,
>>>>>>> db78f476029d6bd042a97412cd099368bb38a194
   "metadata": {},
   "outputs": [],
   "source": [
    "rho =  2e8 * constants.m_p "
   ]
  },
  {
   "cell_type": "code",
<<<<<<< HEAD
   "execution_count": 35,
=======
   "execution_count": 89,
>>>>>>> db78f476029d6bd042a97412cd099368bb38a194
   "metadata": {},
   "outputs": [
    {
     "name": "stdout",
     "output_type": "stream",
     "text": [
      "0.03491186721998649\n"
     ]
    }
   ],
   "source": [
<<<<<<< HEAD
    "originals = glob(\"../../qwind_original/bin64/qw_paper/qw*\")"
=======
    "Mdot = A * rho * 1e7 \n",
    "print(Mdot / constants.Ms * constants.year)"
>>>>>>> db78f476029d6bd042a97412cd099368bb38a194
   ]
  },
  {
   "cell_type": "code",
<<<<<<< HEAD
   "execution_count": 36,
=======
   "execution_count": 80,
>>>>>>> db78f476029d6bd042a97412cd099368bb38a194
   "metadata": {},
   "outputs": [
    {
     "data": {
      "text/plain": [
       "0.24614288838393683"
      ]
     },
<<<<<<< HEAD
     "execution_count": 36,
=======
     "execution_count": 80,
>>>>>>> db78f476029d6bd042a97412cd099368bb38a194
     "metadata": {},
     "output_type": "execute_result"
    }
   ],
   "source": [
    "Mdot / (test.bol_luminosity / (test.eta * constants.c**2))"
   ]
  },
  {
   "cell_type": "code",
   "execution_count": 69,
   "metadata": {},
   "outputs": [],
   "source": [
    "line = test.lines[1]"
   ]
  },
  {
   "cell_type": "code",
   "execution_count": 61,
   "metadata": {},
   "outputs": [
    {
     "data": {
<<<<<<< HEAD
      "image/png": "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\n",
=======
>>>>>>> db78f476029d6bd042a97412cd099368bb38a194
      "text/plain": [
       "200000000.0"
      ]
     },
     "execution_count": 61,
     "metadata": {},
     "output_type": "execute_result"
    }
   ],
   "source": [
    "line.rho_hist[0]"
   ]
  },
  {
   "cell_type": "code",
   "execution_count": 60,
   "metadata": {},
   "outputs": [
    {
     "name": "stdout",
     "output_type": "stream",
     "text": [
      "8.669246e+08\n"
     ]
    }
   ],
   "source": [
    "print(\"%e\"%line.rho_hist[-1])"
   ]
  },
  {
   "cell_type": "code",
   "execution_count": 34,
   "metadata": {},
   "outputs": [
    {
     "data": {
      "text/plain": [
       "(0, 30)"
      ]
     },
     "execution_count": 34,
     "metadata": {},
     "output_type": "execute_result"
    },
    {
     "data": {
      "image/png": "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\n",
      "text/plain": [
       "<Figure size 432x288 with 1 Axes>"
      ]
     },
     "metadata": {
      "needs_background": "light"
     },
     "output_type": "display_data"
    }
   ],
   "source": [
    "for file in originals:\n",
    "    df = read_qwind_file(file)\n",
    "    plt.plot(df.R, df.Z)\n",
    "plt.xlim(30,160)\n",
    "plt.ylim(0,30)"
   ]
  },
  {
   "cell_type": "code",
   "execution_count": 29,
   "metadata": {},
   "outputs": [
    {
     "data": {
      "text/plain": [
       "['../../qwind_original/bin64/qw_paper/qwind.dat04',\n",
       " '../../qwind_original/bin64/qw_paper/qwind.dat02',\n",
       " '../../qwind_original/bin64/qw_paper/qwind.dat03',\n",
       " '../../qwind_original/bin64/qw_paper/qwind.dat05',\n",
       " '../../qwind_original/bin64/qw_paper/qwind.dat01',\n",
       " '../../qwind_original/bin64/qw_paper/qwind.dat06']"
      ]
     },
     "execution_count": 29,
     "metadata": {},
     "output_type": "execute_result"
    }
   ],
   "source": [
    "originals"
   ]
  },
  {
   "cell_type": "code",
   "execution_count": null,
   "metadata": {},
   "outputs": [],
   "source": []
  }
 ],
 "metadata": {
  "kernelspec": {
   "display_name": "Python 3",
   "language": "python",
   "name": "python3"
  },
  "language_info": {
   "codemirror_mode": {
    "name": "ipython",
    "version": 3
   },
   "file_extension": ".py",
   "mimetype": "text/x-python",
   "name": "python",
   "nbconvert_exporter": "python",
   "pygments_lexer": "ipython3",
   "version": "3.7.3"
  }
 },
 "nbformat": 4,
 "nbformat_minor": 4
}
